{
  "cells": [
    {
      "cell_type": "markdown",
      "metadata": {
        "id": "L-lRZSAVFX9S"
      },
      "source": [
        "conectando a uma pasta no drive"
      ]
    },
    {
      "cell_type": "code",
      "execution_count": 1,
      "metadata": {
        "colab": {
          "base_uri": "https://localhost:8080/"
        },
        "id": "GU7gc1VRFJMt",
        "outputId": "9051ad10-33cc-427c-9113-1045e8ddb02c"
      },
      "outputs": [],
      "source": [
        "# from google.colab import drive\n",
        "# drive.mount('/content/drive')"
      ]
    },
    {
      "cell_type": "markdown",
      "metadata": {
        "id": "94AWAC5vFjLx"
      },
      "source": [
        "importando as bibliotecas nessesarias "
      ]
    },
    {
      "cell_type": "code",
      "execution_count": 6,
      "metadata": {
        "id": "bpnWYgAvFiu2"
      },
      "outputs": [
        {
          "ename": "ModuleNotFoundError",
          "evalue": "No module named 'sklearn'",
          "output_type": "error",
          "traceback": [
            "\u001b[1;31m---------------------------------------------------------------------------\u001b[0m",
            "\u001b[1;31mModuleNotFoundError\u001b[0m                       Traceback (most recent call last)",
            "Cell \u001b[1;32mIn [6], line 4\u001b[0m\n\u001b[0;32m      2\u001b[0m \u001b[39mimport\u001b[39;00m \u001b[39mpandas\u001b[39;00m \u001b[39mas\u001b[39;00m \u001b[39mpd\u001b[39;00m\n\u001b[0;32m      3\u001b[0m \u001b[39mimport\u001b[39;00m \u001b[39mnumpy\u001b[39;00m \u001b[39mas\u001b[39;00m \u001b[39mnp\u001b[39;00m\n\u001b[1;32m----> 4\u001b[0m \u001b[39mfrom\u001b[39;00m \u001b[39msklearn\u001b[39;00m\u001b[39m.\u001b[39;00m\u001b[39mdatasets\u001b[39;00m \u001b[39mimport\u001b[39;00m load_boston\n\u001b[0;32m      5\u001b[0m \u001b[39mfrom\u001b[39;00m \u001b[39msklearn\u001b[39;00m\u001b[39m.\u001b[39;00m\u001b[39mpreprocessing\u001b[39;00m \u001b[39mimport\u001b[39;00m Normalizer\n\u001b[0;32m      6\u001b[0m \u001b[39mfrom\u001b[39;00m \u001b[39msklearn\u001b[39;00m\u001b[39m.\u001b[39;00m\u001b[39mmodel_selection\u001b[39;00m \u001b[39mimport\u001b[39;00m train_test_split\n",
            "\u001b[1;31mModuleNotFoundError\u001b[0m: No module named 'sklearn'"
          ]
        }
      ],
      "source": [
        "import matplotlib.pyplot as plt\n",
        "import pandas as pd\n",
        "import numpy as np\n",
        "from sklearn.datasets import load_boston\n",
        "from sklearn.preprocessing import Normalizer\n",
        "from sklearn.model_selection import train_test_split\n",
        "from sklearn.linear_model import LinearRegression\n",
        "from sklearn.metrics import mean_squared_error, mean_absolute_error, r2_score"
      ]
    },
    {
      "cell_type": "markdown",
      "metadata": {
        "id": "0Y-7mD13FsFJ"
      },
      "source": [
        "carregando os dados exemplo\n"
      ]
    },
    {
      "cell_type": "markdown",
      "metadata": {
        "id": "r9J1ABKWFznZ"
      },
      "source": [
        "caregando os dados pratica "
      ]
    },
    {
      "cell_type": "code",
      "execution_count": null,
      "metadata": {
        "id": "vmD79AenHDFB"
      },
      "outputs": [],
      "source": [
        "# lendo dados do csv para um data frame\n",
        "# df = pd.read_csv('/content/drive/MyDrive/db.csv')\n",
        "df = pd.read_csv('/db.csv')\n",
        "# display(df)"
      ]
    },
    {
      "cell_type": "code",
      "execution_count": null,
      "metadata": {
        "colab": {
          "base_uri": "https://localhost:8080/"
        },
        "id": "xhzDADnWupXl",
        "outputId": "66d0ca22-7e86-41c2-e3d4-a88f9e1660c3"
      },
      "outputs": [
        {
          "data": {
            "text/plain": [
              "ano               False\n",
              "densidade         False\n",
              "id_municipio      False\n",
              "sigla_uf          False\n",
              "taxa_aprovacao    False\n",
              "dtype: bool"
            ]
          },
          "execution_count": 4,
          "metadata": {},
          "output_type": "execute_result"
        }
      ],
      "source": [
        "df.isnull().any()"
      ]
    },
    {
      "cell_type": "code",
      "execution_count": null,
      "metadata": {
        "id": "jEZkXgiZsfqQ"
      },
      "outputs": [],
      "source": [
        "# df = df.where(df['densidade'] != np.NAN)\n",
        "# df = df.where(df['taxa_aprovacao'] != np.NAN)\n",
        "# df = df.where(df['densidade'] != np.Infinity)\n",
        "# df = df.where(df['taxa_aprovacao'] != np.Infinity)\n"
      ]
    },
    {
      "cell_type": "code",
      "execution_count": null,
      "metadata": {
        "id": "f7qw8l9zhIEW"
      },
      "outputs": [],
      "source": [
        "y = df['taxa_aprovacao']\n",
        "X = df['densidade']"
      ]
    },
    {
      "cell_type": "code",
      "execution_count": null,
      "metadata": {
        "colab": {
          "base_uri": "https://localhost:8080/"
        },
        "id": "Tyc5lnQLlrWl",
        "outputId": "034ee698-78b7-4424-b05f-c625b1a126f6"
      },
      "outputs": [],
      "source": [
        "print(y)\n",
        "print(X)"
      ]
    },
    {
      "cell_type": "code",
      "execution_count": null,
      "metadata": {
        "id": "7Ii6eSC_v0QU"
      },
      "outputs": [],
      "source": [
        "# transformX = Normalizer().fit([X])\n",
        "# transformY = Normalizer().fit([y])\n",
        "# display(transformX)\n",
        "# display(transformY)"
      ]
    },
    {
      "cell_type": "code",
      "execution_count": null,
      "metadata": {
        "id": "sQUsFh14loG9"
      },
      "outputs": [],
      "source": [
        "X = Normalizer().fit([X]).transform([X])\n",
        "y = Normalizer().fit([y]).transform([y])"
      ]
    },
    {
      "cell_type": "code",
      "execution_count": null,
      "metadata": {
        "colab": {
          "base_uri": "https://localhost:8080/",
          "height": 173
        },
        "id": "8P9dk_rR3_qr",
        "outputId": "ead43547-9294-416e-ee10-97ff87ba02dd"
      },
      "outputs": [
        {
          "data": {
            "text/plain": [
              "array([[2.66591242e-03],\n",
              "       [8.45694494e-05],\n",
              "       [4.29835588e-05],\n",
              "       ...,\n",
              "       [2.13408222e-03],\n",
              "       [5.82186315e-03],\n",
              "       [5.50534907e-03]])"
            ]
          },
          "metadata": {},
          "output_type": "display_data"
        },
        {
          "data": {
            "text/plain": [
              "array([[0.00250734, 0.0027772 , 0.00289506, ..., 0.00576068, 0.00576068,\n",
              "        0.00576068]])"
            ]
          },
          "metadata": {},
          "output_type": "display_data"
        }
      ],
      "source": [
        "# display(X.reshape(-1,1))\n",
        "display(X)\n",
        "display(y)"
      ]
    },
    {
      "cell_type": "markdown",
      "metadata": {
        "id": "dM1I_Rs8KCt7"
      },
      "source": [
        "Selecionando Variáveis para o modelo\n"
      ]
    },
    {
      "cell_type": "markdown",
      "metadata": {
        "id": "cds1eOcMKL9p"
      },
      "source": []
    },
    {
      "cell_type": "code",
      "execution_count": null,
      "metadata": {
        "id": "ONy7Hh5wKMb5"
      },
      "outputs": [],
      "source": [
        "X_train, X_test, y_train, y_test = train_test_split(X.reshape(-1,1), y.reshape(-1,1), test_size=0.25)\n"
      ]
    },
    {
      "cell_type": "code",
      "execution_count": null,
      "metadata": {
        "colab": {
          "base_uri": "https://localhost:8080/",
          "height": 503
        },
        "id": "PNH_AHS53F3b",
        "outputId": "9b7bba34-6eba-4f91-8eab-b7c964562221"
      },
      "outputs": [
        {
          "data": {
            "text/plain": [
              "array([[0.000326  ],\n",
              "       [0.00954806],\n",
              "       [0.00111155],\n",
              "       ...,\n",
              "       [0.00040721],\n",
              "       [0.01275175],\n",
              "       [0.00106994]])"
            ]
          },
          "metadata": {},
          "output_type": "display_data"
        },
        {
          "data": {
            "text/plain": [
              "array([[3.07216874e-03],\n",
              "       [1.40578875e-02],\n",
              "       [1.67718252e-02],\n",
              "       ...,\n",
              "       [9.69200062e-05],\n",
              "       [2.87572235e-03],\n",
              "       [1.50189860e-02]])"
            ]
          },
          "metadata": {},
          "output_type": "display_data"
        },
        {
          "data": {
            "text/plain": [
              "array([[0.0055725 ],\n",
              "       [0.00507502],\n",
              "       [0.00540928],\n",
              "       ...,\n",
              "       [0.0040463 ],\n",
              "       [0.00551724],\n",
              "       [0.00464887]])"
            ]
          },
          "metadata": {},
          "output_type": "display_data"
        },
        {
          "data": {
            "text/plain": [
              "array([[0.00546593],\n",
              "       [0.00460323],\n",
              "       [0.00542323],\n",
              "       ...,\n",
              "       [0.00469983],\n",
              "       [0.00539328],\n",
              "       [0.00508284]])"
            ]
          },
          "metadata": {},
          "output_type": "display_data"
        }
      ],
      "source": [
        "display(X_train, X_test, y_train, y_test)"
      ]
    },
    {
      "cell_type": "markdown",
      "metadata": {
        "id": "ujFWMTJPKV2I"
      },
      "source": []
    },
    {
      "cell_type": "code",
      "execution_count": null,
      "metadata": {
        "id": "-6PKOmm4LI8y"
      },
      "outputs": [],
      "source": [
        "# Criando o modelo LinearRegression\n",
        "regr = LinearRegression()"
      ]
    },
    {
      "cell_type": "code",
      "execution_count": null,
      "metadata": {
        "colab": {
          "base_uri": "https://localhost:8080/",
          "height": 165
        },
        "id": "ORDuGkk2kwp2",
        "outputId": "8bcfff9c-7ea6-4943-cb41-d0da81839988"
      },
      "outputs": [
        {
          "ename": "NameError",
          "evalue": "ignored",
          "output_type": "error",
          "traceback": [
            "\u001b[0;31m---------------------------------------------------------------------------\u001b[0m",
            "\u001b[0;31mNameError\u001b[0m                                 Traceback (most recent call last)",
            "\u001b[0;32m<ipython-input-1-945af7201fd6>\u001b[0m in \u001b[0;36m<module>\u001b[0;34m\u001b[0m\n\u001b[0;32m----> 1\u001b[0;31m \u001b[0mregr\u001b[0m\u001b[0;34m.\u001b[0m\u001b[0mfit\u001b[0m\u001b[0;34m(\u001b[0m\u001b[0mX\u001b[0m\u001b[0;34m,\u001b[0m \u001b[0my\u001b[0m\u001b[0;34m)\u001b[0m\u001b[0;34m\u001b[0m\u001b[0;34m\u001b[0m\u001b[0m\n\u001b[0m",
            "\u001b[0;31mNameError\u001b[0m: name 'regr' is not defined"
          ]
        }
      ],
      "source": [
        "regr.fit(X, y)"
      ]
    },
    {
      "cell_type": "code",
      "execution_count": null,
      "metadata": {
        "id": "SSZBWaOlLL6g"
      },
      "outputs": [],
      "source": [
        "# Realizar treinamento do modelo\n",
        "regr.fit(X, y)\n",
        "regr.fit(X_train, y_train)"
      ]
    },
    {
      "cell_type": "code",
      "execution_count": null,
      "metadata": {
        "id": "1POagSTuKVmB"
      },
      "outputs": [],
      "source": [
        "\n",
        "# Realizar predição com os dados separados para teste\n",
        "y_pred = lr.predict(X_test)\n",
        "# Visualização dos 20 primeiros resultados\n",
        "y_pred[:20]"
      ]
    },
    {
      "cell_type": "code",
      "execution_count": null,
      "metadata": {
        "id": "dE__fHWtKc_J"
      },
      "outputs": [],
      "source": []
    }
  ],
  "metadata": {
    "colab": {
      "provenance": []
    },
    "kernelspec": {
      "display_name": "Python 3.10.8 64-bit",
      "language": "python",
      "name": "python3"
    },
    "language_info": {
      "codemirror_mode": {
        "name": "ipython",
        "version": 3
      },
      "file_extension": ".py",
      "mimetype": "text/x-python",
      "name": "python",
      "nbconvert_exporter": "python",
      "pygments_lexer": "ipython3",
      "version": "3.10.8"
    },
    "vscode": {
      "interpreter": {
        "hash": "a1b250869b7b451bc090eaeeefe2f4bc81e7888a1592e7c1d554bb93ce0ab375"
      }
    }
  },
  "nbformat": 4,
  "nbformat_minor": 0
}
